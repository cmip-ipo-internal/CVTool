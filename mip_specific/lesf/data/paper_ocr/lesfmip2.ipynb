{
 "cells": [
  {
   "cell_type": "code",
   "execution_count": null,
   "metadata": {},
   "outputs": [],
   "source": [
    "import cv2 as cv\n",
    "import numpy as np\n",
    "src = './lesfmip_papertable.jpeg'\n",
    "img = cv.imread(cv.samples.findFile(src))\n",
    "cImage = np.copy(img) #image to draw lines\n",
    "cv.imshow(\"image\", img) #name the window as \"image\"\n",
    "cv.waitKey(0)\n",
    "cv.destroyWindow(\"image\") #close the window"
   ]
  },
  {
   "cell_type": "code",
   "execution_count": null,
   "metadata": {},
   "outputs": [],
   "source": [
    "# cell detection\n",
    "gray = cv.cvtColor(img, cv.COLOR_BGR2GRAY)\n",
    "cv.imshow(\"gray\", gray)\n",
    "cv.waitKey(0)\n",
    "cv.destroyWindow(\"gray\")\n",
    "canny = cv.Canny(gray, 50, 150)\n",
    "cv.imshow(\"canny\", canny)\n",
    "cv.waitKey(0)\n",
    "cv.destroyWindow(\"canny\")"
   ]
  },
  {
   "cell_type": "code",
   "execution_count": null,
   "metadata": {},
   "outputs": [],
   "source": []
  }
 ],
 "metadata": {
  "language_info": {
   "name": "python"
  },
  "orig_nbformat": 4
 },
 "nbformat": 4,
 "nbformat_minor": 2
}
