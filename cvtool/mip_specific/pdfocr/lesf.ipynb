{
 "cells": [
  {
   "cell_type": "code",
   "execution_count": 87,
   "metadata": {},
   "outputs": [
    {
     "name": "stdout",
     "output_type": "stream",
     "text": [
      "tesseract 5.3.1\n",
      " leptonica-1.82.0\n",
      "  libgif 5.2.1 : libjpeg 8d (libjpeg-turbo 2.1.5.1) : libpng 1.6.39 : libtiff 4.5.0 : zlib 1.2.11 : libwebp 1.3.0 : libopenjp2 2.5.0\n",
      " Found NEON\n",
      " Found libarchive 3.6.2 zlib/1.2.11 liblzma/5.4.1 bz2lib/1.0.8 liblz4/1.9.4 libzstd/1.5.4\n",
      " Found libcurl/7.87.0 SecureTransport (LibreSSL/3.3.6) zlib/1.2.11 nghttp2/1.51.0\n"
     ]
    }
   ],
   "source": [
    "# brew install tesseract-lang\n",
    "from img2table.ocr import TesseractOCR\n",
    "from img2table.document import Image\n",
    "\n",
    "\n",
    "# Instantiation of OCR\n",
    "ocr = TesseractOCR(n_threads=1, \n",
    "                   lang=\"eng\", \n",
    "                   psm=11,\n",
    "                   tessdata_dir=\"/Users/daniel.ellis/customlib/homebrew/Cellar/tesseract/5.3.1/share/tessdata\")\n",
    "\n",
    "\n",
    "# read image\n",
    "src = './lesfmip_papertable_edit.jpeg'\n",
    "image = Image(src, detect_rotation=False)"
   ]
  },
  {
   "cell_type": "code",
   "execution_count": 88,
   "metadata": {},
   "outputs": [],
   "source": [
    "extracted = image.extract_tables(\n",
    "                                    ocr = ocr,\n",
    "                                    implicit_rows=True,\n",
    "                                    borderless_tables=False,\n",
    "                                    min_confidence=90)"
   ]
  },
  {
   "cell_type": "code",
   "execution_count": 89,
   "metadata": {},
   "outputs": [
    {
     "data": {
      "text/plain": [
       "[ExtractedTable(title=Description\n",
       " Tier\n",
       " Start year\n",
       " End year\n",
       " Notes\n",
       " Well-mixed\n",
       " 2020\n",
       " As DAMIP but with larger ensembles (10 members:, bbox=(263, 106, 727, 1278),shape=(11, 4))]"
      ]
     },
     "execution_count": 89,
     "metadata": {},
     "output_type": "execute_result"
    }
   ],
   "source": [
    "extracted\n"
   ]
  },
  {
   "cell_type": "code",
   "execution_count": 90,
   "metadata": {},
   "outputs": [],
   "source": [
    "a = extracted[0]"
   ]
  },
  {
   "cell_type": "code",
   "execution_count": 91,
   "metadata": {},
   "outputs": [
    {
     "data": {
      "text/html": [
       "<div>\n",
       "<style scoped>\n",
       "    .dataframe tbody tr th:only-of-type {\n",
       "        vertical-align: middle;\n",
       "    }\n",
       "\n",
       "    .dataframe tbody tr th {\n",
       "        vertical-align: top;\n",
       "    }\n",
       "\n",
       "    .dataframe thead th {\n",
       "        text-align: right;\n",
       "    }\n",
       "</style>\n",
       "<table border=\"1\" class=\"dataframe\">\n",
       "  <thead>\n",
       "    <tr style=\"text-align: right;\">\n",
       "      <th></th>\n",
       "      <th>0</th>\n",
       "      <th>1</th>\n",
       "      <th>2</th>\n",
       "      <th>3</th>\n",
       "    </tr>\n",
       "  </thead>\n",
       "  <tbody>\n",
       "    <tr>\n",
       "      <th>0</th>\n",
       "      <td>historical simulations</td>\n",
       "      <td>None</td>\n",
       "      <td>None</td>\n",
       "      <td>None</td>\n",
       "    </tr>\n",
       "    <tr>\n",
       "      <th>1</th>\n",
       "      <td>only historical</td>\n",
       "      <td>None</td>\n",
       "      <td>None</td>\n",
       "      <td>2020</td>\n",
       "    </tr>\n",
       "    <tr>\n",
       "      <th>2</th>\n",
       "      <td>historical\\nsimulations</td>\n",
       "      <td>None</td>\n",
       "      <td>None</td>\n",
       "      <td>None</td>\n",
       "    </tr>\n",
       "    <tr>\n",
       "      <th>3</th>\n",
       "      <td>historical\\nsimulations</td>\n",
       "      <td>None</td>\n",
       "      <td>None</td>\n",
       "      <td>None</td>\n",
       "    </tr>\n",
       "    <tr>\n",
       "      <th>4</th>\n",
       "      <td>Historical simulations\\nwith only land use</td>\n",
       "      <td>None</td>\n",
       "      <td>None</td>\n",
       "      <td>None</td>\n",
       "    </tr>\n",
       "    <tr>\n",
       "      <th>5</th>\n",
       "      <td>1.5 but with updated</td>\n",
       "      <td>None</td>\n",
       "      <td>None</td>\n",
       "      <td>None</td>\n",
       "    </tr>\n",
       "    <tr>\n",
       "      <th>6</th>\n",
       "      <td>As but with updated\\nforcings</td>\n",
       "      <td>None</td>\n",
       "      <td>rds</td>\n",
       "      <td>None</td>\n",
       "    </tr>\n",
       "    <tr>\n",
       "      <th>7</th>\n",
       "      <td>volcanic)</td>\n",
       "      <td>None</td>\n",
       "      <td>None</td>\n",
       "      <td>None</td>\n",
       "    </tr>\n",
       "    <tr>\n",
       "      <th>8</th>\n",
       "      <td>but with updated\\nforcings</td>\n",
       "      <td>3</td>\n",
       "      <td>2015 onwards</td>\n",
       "      <td>onwards</td>\n",
       "    </tr>\n",
       "    <tr>\n",
       "      <th>9</th>\n",
       "      <td>1.6 but with\\nsingle forcing kept\\nconstant at...</td>\n",
       "      <td>None</td>\n",
       "      <td>None</td>\n",
       "      <td>None</td>\n",
       "    </tr>\n",
       "    <tr>\n",
       "      <th>10</th>\n",
       "      <td>but\\nsingle forcing kept\\n1850</td>\n",
       "      <td>None</td>\n",
       "      <td>2015 onwards</td>\n",
       "      <td>2024 onwards</td>\n",
       "    </tr>\n",
       "  </tbody>\n",
       "</table>\n",
       "</div>"
      ],
      "text/plain": [
       "                                                    0     1             2  \\\n",
       "0                              historical simulations  None          None   \n",
       "1                                     only historical  None          None   \n",
       "2                             historical\\nsimulations  None          None   \n",
       "3                             historical\\nsimulations  None          None   \n",
       "4          Historical simulations\\nwith only land use  None          None   \n",
       "5                                1.5 but with updated  None          None   \n",
       "6                       As but with updated\\nforcings  None           rds   \n",
       "7                                           volcanic)  None          None   \n",
       "8                          but with updated\\nforcings     3  2015 onwards   \n",
       "9   1.6 but with\\nsingle forcing kept\\nconstant at...  None          None   \n",
       "10                     but\\nsingle forcing kept\\n1850  None  2015 onwards   \n",
       "\n",
       "               3  \n",
       "0           None  \n",
       "1           2020  \n",
       "2           None  \n",
       "3           None  \n",
       "4           None  \n",
       "5           None  \n",
       "6           None  \n",
       "7           None  \n",
       "8        onwards  \n",
       "9           None  \n",
       "10  2024 onwards  "
      ]
     },
     "execution_count": 91,
     "metadata": {},
     "output_type": "execute_result"
    }
   ],
   "source": [
    "a.df"
   ]
  },
  {
   "cell_type": "code",
   "execution_count": 92,
   "metadata": {},
   "outputs": [
    {
     "ename": "IndexError",
     "evalue": "list index out of range",
     "output_type": "error",
     "traceback": [
      "\u001b[0;31m---------------------------------------------------------------------------\u001b[0m",
      "\u001b[0;31mIndexError\u001b[0m                                Traceback (most recent call last)",
      "Cell \u001b[0;32mIn[92], line 1\u001b[0m\n\u001b[0;32m----> 1\u001b[0m extracted[\u001b[39m1\u001b[39;49m]\u001b[39m.\u001b[39mdf\n",
      "\u001b[0;31mIndexError\u001b[0m: list index out of range"
     ]
    }
   ],
   "source": [
    "extracted[1].df"
   ]
  },
  {
   "cell_type": "code",
   "execution_count": null,
   "metadata": {},
   "outputs": [
    {
     "data": {
      "text/plain": [
       "[]"
      ]
     },
     "execution_count": 73,
     "metadata": {},
     "output_type": "execute_result"
    }
   ],
   "source": [
    "image.extract_tables()"
   ]
  },
  {
   "cell_type": "code",
   "execution_count": null,
   "metadata": {},
   "outputs": [],
   "source": []
  }
 ],
 "metadata": {
  "kernelspec": {
   "display_name": "scratch",
   "language": "python",
   "name": "python3"
  },
  "language_info": {
   "codemirror_mode": {
    "name": "ipython",
    "version": 3
   },
   "file_extension": ".py",
   "mimetype": "text/x-python",
   "name": "python",
   "nbconvert_exporter": "python",
   "pygments_lexer": "ipython3",
   "version": "3.11.4"
  },
  "orig_nbformat": 4
 },
 "nbformat": 4,
 "nbformat_minor": 2
}
